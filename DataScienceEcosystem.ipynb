{
 "cells": [
  {
   "cell_type": "markdown",
   "id": "2c7d8f79",
   "metadata": {},
   "source": [
    "# Data Science Tools and Ecosystem"
   ]
  },
  {
   "cell_type": "markdown",
   "id": "0bad684e",
   "metadata": {},
   "source": [
    "In this notebook, Data Science Tools and Ecosystem are summarized."
   ]
  },
  {
   "cell_type": "markdown",
   "id": "f125db36",
   "metadata": {},
   "source": [
    "Some of the popular languages that Data Scientists use are:\n",
    "1. Python\n",
    "2. R\n",
    "3. Scala"
   ]
  },
  {
   "cell_type": "markdown",
   "id": "81ddb5f3",
   "metadata": {},
   "source": [
    "Some of the commonly used libraries used by Data Scientists include:\n",
    "    \n",
    "1. ggplot\n",
    "2. pandas \n",
    "3. numpy"
   ]
  },
  {
   "cell_type": "markdown",
   "id": "31eb0079",
   "metadata": {},
   "source": [
    "|Data Science Tools |\n",
    "----------\n",
    "|1. GitHub|\n",
    "|2. Jupyter|\n",
    "|3. Anaconda|"
   ]
  },
  {
   "cell_type": "markdown",
   "id": "0cb194a0",
   "metadata": {},
   "source": [
    "### Below are a few examples of evaluating arithmetic expressions in Python"
   ]
  },
  {
   "cell_type": "code",
   "execution_count": 4,
   "id": "8642fcf8",
   "metadata": {},
   "outputs": [
    {
     "data": {
      "text/plain": [
       "17"
      ]
     },
     "execution_count": 4,
     "metadata": {},
     "output_type": "execute_result"
    }
   ],
   "source": [
    "#This a simple arithmetic expression to mutiply then add integers\n",
    "\n",
    "(3*4)+5"
   ]
  },
  {
   "cell_type": "code",
   "execution_count": 5,
   "id": "bcd69d4d",
   "metadata": {},
   "outputs": [
    {
     "name": "stdout",
     "output_type": "stream",
     "text": [
      "3.3333333333333335\n"
     ]
    }
   ],
   "source": [
    "#This will convert 200 minutes to hours by diving by 60\n",
    "hours=200 \n",
    "minutes=hours/60\n",
    "print(minutes)"
   ]
  },
  {
   "cell_type": "markdown",
   "id": "7f1205da",
   "metadata": {},
   "source": [
    "**Objectives:**\n",
    "\n",
    "- Types of Data Science tools \n",
    "- Different languages used \n",
    "- What is Python, R and Github\n",
    "- Basic commands\n",
    "- how to install packages"
   ]
  },
  {
   "cell_type": "markdown",
   "id": "d68babf7",
   "metadata": {},
   "source": [
    "## Author \n",
    "Shreevibha Kolukula"
   ]
  },
  {
   "cell_type": "code",
   "execution_count": null,
   "id": "ceb331e3",
   "metadata": {},
   "outputs": [],
   "source": []
  }
 ],
 "metadata": {
  "kernelspec": {
   "display_name": "Python 3 (ipykernel)",
   "language": "python",
   "name": "python3"
  },
  "language_info": {
   "codemirror_mode": {
    "name": "ipython",
    "version": 3
   },
   "file_extension": ".py",
   "mimetype": "text/x-python",
   "name": "python",
   "nbconvert_exporter": "python",
   "pygments_lexer": "ipython3",
   "version": "3.10.13"
  }
 },
 "nbformat": 4,
 "nbformat_minor": 5
}
